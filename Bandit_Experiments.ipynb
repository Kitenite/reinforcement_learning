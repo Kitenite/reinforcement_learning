{
  "nbformat": 4,
  "nbformat_minor": 0,
  "metadata": {
    "colab": {
      "name": "Bandit_Experiments.ipynb",
      "provenance": [],
      "collapsed_sections": [],
      "authorship_tag": "ABX9TyOslKBpLW0V4cMkbxR57Ue0",
      "include_colab_link": true
    },
    "kernelspec": {
      "name": "python3",
      "display_name": "Python 3"
    },
    "language_info": {
      "name": "python"
    }
  },
  "cells": [
    {
      "cell_type": "markdown",
      "metadata": {
        "id": "view-in-github",
        "colab_type": "text"
      },
      "source": [
        "<a href=\"https://colab.research.google.com/github/Kitenite/reinforcement_learning/blob/main/Bandit_Experiments.ipynb\" target=\"_parent\"><img src=\"https://colab.research.google.com/assets/colab-badge.svg\" alt=\"Open In Colab\"/></a>"
      ]
    },
    {
      "cell_type": "code",
      "execution_count": 11,
      "metadata": {
        "id": "B3bhT-JeoW6T",
        "colab": {
          "base_uri": "https://localhost:8080/"
        },
        "outputId": "d54577a9-bbe1-4319-e72d-84d811de302e"
      },
      "outputs": [
        {
          "output_type": "stream",
          "name": "stdout",
          "text": [
            "Cloning into 'gym-bandits'...\n",
            "remote: Enumerating objects: 73, done.\u001b[K\n",
            "remote: Total 73 (delta 0), reused 0 (delta 0), pack-reused 73\u001b[K\n",
            "Unpacking objects: 100% (73/73), done.\n",
            "Processing /content/gym-bandits\n",
            "\u001b[33m  DEPRECATION: A future pip version will change local packages to be built in-place without first copying to a temporary directory. We recommend you use --use-feature=in-tree-build to test your packages with this new behavior before it becomes the default.\n",
            "   pip 21.3 will remove support for this functionality. You can find discussion regarding this at https://github.com/pypa/pip/issues/7555.\u001b[0m\n",
            "Requirement already satisfied: gym in /usr/local/lib/python3.7/dist-packages (from gym-bandits==0.0.2) (0.17.3)\n",
            "Requirement already satisfied: pyglet<=1.5.0,>=1.4.0 in /usr/local/lib/python3.7/dist-packages (from gym->gym-bandits==0.0.2) (1.5.0)\n",
            "Requirement already satisfied: cloudpickle<1.7.0,>=1.2.0 in /usr/local/lib/python3.7/dist-packages (from gym->gym-bandits==0.0.2) (1.3.0)\n",
            "Requirement already satisfied: numpy>=1.10.4 in /usr/local/lib/python3.7/dist-packages (from gym->gym-bandits==0.0.2) (1.21.5)\n",
            "Requirement already satisfied: scipy in /usr/local/lib/python3.7/dist-packages (from gym->gym-bandits==0.0.2) (1.4.1)\n",
            "Requirement already satisfied: future in /usr/local/lib/python3.7/dist-packages (from pyglet<=1.5.0,>=1.4.0->gym->gym-bandits==0.0.2) (0.16.0)\n",
            "Building wheels for collected packages: gym-bandits\n",
            "  Building wheel for gym-bandits (setup.py) ... \u001b[?25l\u001b[?25hdone\n",
            "  Created wheel for gym-bandits: filename=gym_bandits-0.0.2-py3-none-any.whl size=5194 sha256=a4edef7230b4ab4d95ecdad065bcda32d3bf1e129e3c216829e51d444ec0cd12\n",
            "  Stored in directory: /root/.cache/pip/wheels/09/de/d5/3573ee26dbd0c8c02e4da1d8ac2b51a2ef2a44ff8170d565d0\n",
            "Successfully built gym-bandits\n",
            "Installing collected packages: gym-bandits\n",
            "Successfully installed gym-bandits-0.0.2\n"
          ]
        }
      ],
      "source": [
        "# !git clone https://github.com/JKCooper2/gym-bandits.git\n",
        "# !cd gym-bandits && pip install .\n",
        "# import gym_bandits"
      ]
    },
    {
      "cell_type": "markdown",
      "source": [
        "#Bandit Env\n",
        "\n",
        "Adapted from https://github.com/JKCooper2/gym-bandits.git"
      ],
      "metadata": {
        "id": "J2rTjVb0hG6a"
      }
    },
    {
      "cell_type": "code",
      "source": [
        "import numpy as np\n",
        "import gym\n",
        "from gym import spaces\n",
        "from gym.utils import seeding\n",
        "\n",
        "class BanditEnv(gym.Env):\n",
        "    \"\"\"\n",
        "    Bandit environment base to allow agents to interact with the class n-armed bandit\n",
        "    in different variations\n",
        "    p_dist:\n",
        "        A list of probabilities of the likelihood that a particular bandit will pay out\n",
        "    r_dist:\n",
        "        A list of either rewards (if number) or means and standard deviations (if list)\n",
        "        of the payout that bandit has\n",
        "    \"\"\"\n",
        "    def __init__(self, p_dist, r_dist):\n",
        "        if len(p_dist) != len(r_dist):\n",
        "            raise ValueError(\"Probability and Reward distribution must be the same length\")\n",
        "\n",
        "        if min(p_dist) < 0 or max(p_dist) > 1:\n",
        "            raise ValueError(\"All probabilities must be between 0 and 1\")\n",
        "\n",
        "        for reward in r_dist:\n",
        "            if isinstance(reward, list) and reward[1] <= 0:\n",
        "                raise ValueError(\"Standard deviation in rewards must all be greater than 0\")\n",
        "\n",
        "        self.p_dist = p_dist\n",
        "        self.r_dist = r_dist\n",
        "\n",
        "        self.n_bandits = len(p_dist)\n",
        "        self.action_space = spaces.Discrete(self.n_bandits)\n",
        "        self.observation_space = spaces.Discrete(1)\n",
        "\n",
        "        self._seed()\n",
        "\n",
        "    def _seed(self, seed=None):\n",
        "        self.np_random, seed = seeding.np_random(seed)\n",
        "        return [seed]\n",
        "\n",
        "    def step(self, action):\n",
        "        assert self.action_space.contains(action)\n",
        "\n",
        "        reward = 0\n",
        "        done = True\n",
        "\n",
        "        if np.random.uniform() < self.p_dist[action]:\n",
        "            if not isinstance(self.r_dist[action], list):\n",
        "                reward = self.r_dist[action]\n",
        "            else:\n",
        "                reward = np.random.normal(self.r_dist[action][0], self.r_dist[action][1])\n",
        "\n",
        "        return 0, reward, done, {}\n",
        "\n",
        "    def reset(self):\n",
        "        return 0\n",
        "\n",
        "    def render(self, mode='human', close=False):\n",
        "        pass\n",
        "\n",
        "\n",
        "class BanditTwoArmedDeterministicFixed(BanditEnv):\n",
        "    \"\"\"Simplest case where one bandit always pays, and the other always doesn't\"\"\"\n",
        "    def __init__(self):\n",
        "        BanditEnv.__init__(self, p_dist=[1, 0], r_dist=[1, 1])\n",
        "\n",
        "\n",
        "class BanditTwoArmedHighLowFixed(BanditEnv):\n",
        "    \"\"\"Stochastic version with a large difference between which bandit pays out of two choices\"\"\"\n",
        "    def __init__(self):\n",
        "        BanditEnv.__init__(self, p_dist=[0.8, 0.2], r_dist=[1, 1])\n",
        "\n",
        "\n",
        "class BanditTwoArmedHighHighFixed(BanditEnv):\n",
        "    \"\"\"Stochastic version with a small difference between which bandit pays where both are good\"\"\"\n",
        "    def __init__(self):\n",
        "        BanditEnv.__init__(self, p_dist=[0.8, 0.9], r_dist=[1, 1])\n",
        "\n",
        "\n",
        "class BanditTwoArmedLowLowFixed(BanditEnv):\n",
        "    \"\"\"Stochastic version with a small difference between which bandit pays where both are bad\"\"\"\n",
        "    def __init__(self):\n",
        "        BanditEnv.__init__(self, p_dist=[0.1, 0.2], r_dist=[1, 1])\n",
        "\n",
        "\n",
        "class BanditTenArmedRandomFixed(BanditEnv):\n",
        "    \"\"\"10 armed bandit with random probabilities assigned to payouts\"\"\"\n",
        "    def __init__(self, bandits=10):\n",
        "        p_dist = np.random.uniform(size=bandits)\n",
        "        r_dist = np.full(bandits, 1)\n",
        "        BanditEnv.__init__(self, p_dist=p_dist, r_dist=r_dist)\n",
        "\n",
        "\n",
        "class BanditTenArmedUniformDistributedReward(BanditEnv):\n",
        "    \"\"\"10 armed bandit with that always pays out with a reward selected from a uniform distribution\"\"\"\n",
        "    def __init__(self, bandits=10):\n",
        "        p_dist = np.full(bandits, 1)\n",
        "        r_dist = np.random.uniform(size=bandits)\n",
        "        BanditEnv.__init__(self, p_dist=p_dist, r_dist=r_dist)\n",
        "\n",
        "\n",
        "class BanditTenArmedRandomRandom(BanditEnv):\n",
        "    \"\"\"10 armed bandit with random probabilities assigned to both payouts and rewards\"\"\"\n",
        "    def __init__(self, bandits=10):\n",
        "        p_dist = np.random.uniform(size=bandits)\n",
        "        r_dist = np.random.uniform(size=bandits)\n",
        "        BanditEnv.__init__(self, p_dist=p_dist, r_dist=r_dist)\n",
        "\n",
        "\n",
        "class BanditTenArmedGaussian(BanditEnv):\n",
        "    \"\"\"\n",
        "    10 armed bandit mentioned on page 30 of Sutton and Barto's\n",
        "    [Reinforcement Learning: An Introduction](https://www.dropbox.com/s/b3psxv2r0ccmf80/book2015oct.pdf?dl=0)\n",
        "    Actions always pay out\n",
        "    Mean of payout is pulled from a normal distribution (0, 1) (called q*(a))\n",
        "    Actual reward is drawn from a normal distribution (q*(a), 1)\n",
        "    \"\"\"\n",
        "    def __init__(self, bandits=10):\n",
        "        p_dist = np.full(bandits, 1)\n",
        "        r_dist = []\n",
        "\n",
        "        for _ in range(bandits):\n",
        "            r_dist.append([np.random.normal(0, 1), 1])\n",
        "\n",
        "        BanditEnv.__init__(self, p_dist=p_dist, r_dist=r_dist)"
      ],
      "metadata": {
        "id": "Mm18vv5uhFxc"
      },
      "execution_count": 3,
      "outputs": []
    },
    {
      "cell_type": "markdown",
      "source": [
        "#Bandit Alg\n",
        "\n",
        "Displaying a simple e-greedy bandit algorithm (sample average). \n",
        "Enhancements needed: Add step-size discount in order to handle nonstationnary rewards."
      ],
      "metadata": {
        "id": "dcTbv3KLhL4X"
      }
    },
    {
      "cell_type": "code",
      "source": [
        "import gym\n",
        "import numpy as np\n",
        "import matplotlib.pyplot as plt\n",
        "from IPython import display as ipythondisplay\n",
        "from collections import defaultdict\n",
        "import random"
      ],
      "metadata": {
        "id": "baGiufEOoiWV"
      },
      "execution_count": 6,
      "outputs": []
    },
    {
      "cell_type": "code",
      "source": [
        "env = gym.make(\"BanditTenArmedGaussian-v0\")\n",
        "env.reset()\n",
        "actions = env.action_space\n",
        "\n",
        "class IncrementalEpsilonBandit():\n",
        "  values = []\n",
        "  taken = []\n",
        "  e = 0.1\n",
        "  num_arms = 10\n",
        "\n",
        "  def __init__(self, num_arms, e):\n",
        "    self.values = [0]*num_arms\n",
        "    self.taken = [0]*num_arms\n",
        "    self.num_arms = num_arms\n",
        "    self.e = e\n",
        "\n",
        "  def sample(self):\n",
        "    # Pick randomly\n",
        "    if not self.values:\n",
        "      a = actions.sample()\n",
        "    \n",
        "    explore = random.uniform(0, 1) <= self.e\n",
        "\n",
        "    if explore:\n",
        "      a = actions.sample()\n",
        "    else:\n",
        "      a = np.argmax(self.values)\n",
        "\n",
        "    self.taken[a] += 1\n",
        "    return a\n",
        "\n",
        "  def update(self, action, obs, reward, done, info):\n",
        "    n = self.taken[action]\n",
        "    qn = self.values[action]\n",
        "    rn = reward\n",
        "    self.values[action] = qn+(1/n)*(rn - qn)\n",
        "\n",
        "num_arms = 10\n",
        "num_steps = 1000\n",
        "es = np.arange(0.0, 1.1, 0.1)\n",
        "fig, ax = plt.subplots()  # Create a figure containing a single axes.\n",
        "num_bandits = 50\n",
        "def run_bandits():\n",
        "  for e in es:\n",
        "    bandit = IncrementalEpsilonBandit(num_arms, e)\n",
        "    sum_rewards = 0\n",
        "    plot_data = ([], [])\n",
        "    for step in range(num_steps):\n",
        "        action = bandit.sample()\n",
        "        obs, reward, done, info = env.step(action)\n",
        "        bandit.update(action, obs, reward, done, info)\n",
        "        sum_rewards += reward\n",
        "        plot_data[0].append(step)\n",
        "        plot_data[1].append(sum_rewards)\n",
        "    ax.plot(plot_data[0], plot_data[1],label=round(e,1))\n",
        "    print(f\"e: {round(e,1)} \\t Total rewards: {sum_rewards}\")\n",
        "    # print(bandit.taken)\n",
        "    # print(bandit.values)\n",
        "\n",
        "run_bandits()\n",
        "plt.legend(loc='best')\n",
        "plt.show()\n",
        "env.close()"
      ],
      "metadata": {
        "colab": {
          "base_uri": "https://localhost:8080/",
          "height": 461
        },
        "id": "LypDcD33pWT_",
        "outputId": "ceca053f-0064-4715-aa6a-b7fbe928db6a"
      },
      "execution_count": 88,
      "outputs": [
        {
          "output_type": "stream",
          "name": "stdout",
          "text": [
            "e: 0.0 \t Total rewards: 556.5443727299837\n",
            "e: 0.1 \t Total rewards: 1076.718690082444\n",
            "e: 0.2 \t Total rewards: 955.7122766949304\n",
            "e: 0.3 \t Total rewards: 812.2481483993986\n",
            "e: 0.4 \t Total rewards: 709.8612203007428\n",
            "e: 0.5 \t Total rewards: 571.2341697073275\n",
            "e: 0.6 \t Total rewards: 354.88632796512786\n",
            "e: 0.7 \t Total rewards: 322.0033139152303\n",
            "e: 0.8 \t Total rewards: 154.95337156068766\n",
            "e: 0.9 \t Total rewards: 48.685240921062814\n",
            "e: 1.0 \t Total rewards: 62.78234247078158\n"
          ]
        },
        {
          "output_type": "display_data",
          "data": {
            "image/png": "[encoded data removed]",
            "text/plain": [
              "<Figure size 432x288 with 1 Axes>"
            ]
          },
          "metadata": {
            "needs_background": "light"
          }
        }
      ]
    },
    {
      "cell_type": "markdown",
      "source": [
        ""
      ],
      "metadata": {
        "id": "OaIFknVCPL8n"
      }
    },
    {
      "cell_type": "markdown",
      "source": [
        "Result: Over time, a small exploration value performs the best with culmulative reward. A random agent performs the worst.\n",
        "\n",
        "With a small action space, a full-exploit algorithm can accidentally pick and exploit the correct reward, leading to optimal performance."
      ],
      "metadata": {
        "id": "Gb4QhV3bOyFx"
      }
    },
    {
      "cell_type": "code",
      "source": [
        "env = gym.make(\"BanditTenArmedGaussian-v0\")\n",
        "env.reset()\n",
        "actions = env.action_space\n",
        "\n",
        "class UpperConfidenceBoundBandit():\n",
        "  values = []\n",
        "  taken = []\n",
        "  confidence = []\n",
        "  c = None\n",
        "  num_arms = None\n",
        "  t = 1\n",
        "\n",
        "  def __init__(self, num_arms = 10, c = 2):\n",
        "    self.values = [0]*num_arms\n",
        "    self.taken = [0]*num_arms\n",
        "    self.num_arms = num_arms\n",
        "    self.confidence = [0]*num_arms\n",
        "    self.c = c\n",
        "\n",
        "    for a in range(num_arms):\n",
        "      self.compute_confidence(a)\n",
        "\n",
        "  def compute_confidence(self, a):\n",
        "    qt = self.values[a] \n",
        "    nt = self.taken[a]\n",
        "    if nt <= 0:\n",
        "      conf = float('inf')\n",
        "    else:\n",
        "      conf = qt + self.c * np.sqrt(np.log(self.t)/nt)\n",
        "    self.confidence[a] = conf\n",
        "  \n",
        "\n",
        "  # Instead of picking randomly, we're going to compute confidence based on how many times the action has been tried\n",
        "  def sample(self):\n",
        "    a = np.argmax(self.confidence)\n",
        "    self.taken[a] += 1\n",
        "    self.t += 1\n",
        "    return a\n",
        "\n",
        "  def update(self, action, obs, reward, done, info):\n",
        "    n = self.taken[action]\n",
        "    qn = self.values[action]\n",
        "    rn = reward\n",
        "    self.values[action] = qn+(1/n)*(rn - qn)\n",
        "    self.compute_confidence(action)\n",
        "\n",
        "\n",
        "def plot_rewards(bandit, sum_rewards, plot_data):\n",
        "  fig, ax = plt.subplots()  # Create a figure containing a single axes.\n",
        "  print(f\"Total rewards: {sum_rewards}\")\n",
        "  print(bandit.taken)\n",
        "  print(bandit.values)\n",
        "  print(bandit.confidence)\n",
        "  ax.plot(plot_data[0], plot_data[1],label=round(bandit.c,1))\n",
        "  plt.legend(loc='best')\n",
        "  plt.show()\n",
        "\n",
        "\n",
        "num_arms = 10\n",
        "num_steps = 1000\n",
        "\n",
        "def run_bandit():\n",
        "  bandit = UpperConfidenceBoundBandit()\n",
        "  sum_rewards = 0\n",
        "  plot_data = ([], [])\n",
        "  for step in range(num_steps):\n",
        "      action = bandit.sample()\n",
        "      obs, reward, done, info = env.step(action)\n",
        "      bandit.update(action, obs, reward, done, info)\n",
        "      sum_rewards += reward\n",
        "      plot_data[0].append(step)\n",
        "      plot_data[1].append(sum_rewards)\n",
        "  plot_rewards(bandit, sum_rewards, plot_data)\n",
        "  \n",
        "run_bandit()\n",
        "env.close()"
      ],
      "metadata": {
        "colab": {
          "base_uri": "https://localhost:8080/",
          "height": 356
        },
        "id": "F_zBX1hBSblx",
        "outputId": "e3d4ca79-74e7-4014-e80b-513839aee291"
      },
      "execution_count": 91,
      "outputs": [
        {
          "output_type": "stream",
          "name": "stdout",
          "text": [
            "Total rewards: 1557.5358081572633\n",
            "[1, 3, 1, 1, 15, 3, 920, 5, 41, 10]\n",
            "[-0.41012020218035594, -0.6894919356974569, -1.871756218926754, -1.683837524347105, 0.44118608095219064, -1.172012386995089, 1.6503197536625605, -0.23818902339236134, 1.024199761903717, 0.1372825365866443]\n",
            "[1.2549890201350395, 1.7022882774905892, 0.4830638261041953, 0.853434958011934, 1.7741659703719626, 1.602767254837011, 1.823634681634424, 1.762600082124851, 1.8194035019742043, 1.7888180724169238]\n"
          ]
        },
        {
          "output_type": "display_data",
          "data": {
            "image/png": "[encoded data removed]",
            "text/plain": [
              "<Figure size 432x288 with 1 Axes>"
            ]
          },
          "metadata": {
            "needs_background": "light"
          }
        }
      ]
    },
    {
      "cell_type": "markdown",
      "source": [
        "Result:\n",
        "\n",
        "On average performs better than epsilon 0.1. More difficult to implement in reality. "
      ],
      "metadata": {
        "id": "0ACjRuePd7XP"
      }
    }
  ]
}